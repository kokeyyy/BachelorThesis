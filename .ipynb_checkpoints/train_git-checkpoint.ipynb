{
 "cells": [
  {
   "cell_type": "code",
   "execution_count": 1,
   "id": "4e0d1500-10fc-4fa6-bb91-2e7ca2e15ae8",
   "metadata": {},
   "outputs": [],
   "source": [
    "#gitを使ってみる"
   ]
  },
  {
   "cell_type": "code",
   "execution_count": 2,
   "id": "b1b60039-46d0-4260-b8c0-8e88e64842f9",
   "metadata": {},
   "outputs": [
    {
     "name": "stdout",
     "output_type": "stream",
     "text": [
      "変更1回目\n"
     ]
    }
   ],
   "source": [
    "print(\"変更1回目\")"
   ]
  },
  {
   "cell_type": "code",
   "execution_count": 1,
   "id": "8d465467-7bb9-4894-9220-d4b7f4d2de06",
   "metadata": {},
   "outputs": [
    {
     "name": "stdout",
     "output_type": "stream",
     "text": [
      "変更2回目\n"
     ]
    }
   ],
   "source": [
    "print(\"変更2回目\")"
   ]
  },
  {
   "cell_type": "code",
   "execution_count": null,
   "id": "d10c4571-c5d5-42db-952a-9b20a2bd9467",
   "metadata": {},
   "outputs": [],
   "source": [
    "print(\"変更4回目\")"
   ]
  }
 ],
 "metadata": {
  "kernelspec": {
   "display_name": "Python 3",
   "language": "python",
   "name": "python3"
  },
  "language_info": {
   "codemirror_mode": {
    "name": "ipython",
    "version": 3
   },
   "file_extension": ".py",
   "mimetype": "text/x-python",
   "name": "python",
   "nbconvert_exporter": "python",
   "pygments_lexer": "ipython3",
   "version": "3.8.10"
  }
 },
 "nbformat": 4,
 "nbformat_minor": 5
}
